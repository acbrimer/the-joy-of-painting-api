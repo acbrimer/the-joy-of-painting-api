{
 "cells": [
  {
   "cell_type": "code",
   "execution_count": 198,
   "metadata": {},
   "outputs": [],
   "source": [
    "import pandas as pd\n",
    "import os\n",
    "\n",
    "\n",
    "DATA_ROOT = os.path.join(os.getcwd(), 'data')\n",
    "\n",
    "df_colors = pd.read_csv(os.path.join(\n",
    "    DATA_ROOT, 'The Joy Of Painiting - Colors Used'))\n",
    "df_colors['TITLE'] = df_colors.apply(\n",
    "    lambda r: r['painting_title'].upper(), axis=1)\n",
    "df_colors['EPISODE'] = df_colors.apply(\n",
    "    lambda r: f\"S{r['season']:02}E{r['episode']:02}\", axis=1)\n",
    "\n",
    "df_subjects = pd.read_csv(os.path.join(\n",
    "    DATA_ROOT, 'The Joy Of Painiting - Subject Matter'))\n",
    "# update column - remove surrounding quotes from TITLE\n",
    "df_subjects['TITLE'] = df_subjects.apply(lambda r: r['TITLE'][1:-1], axis=1)\n",
    "\n",
    "df_dates = pd.read_csv(os.path.join(\n",
    "    DATA_ROOT, 'The Joy Of Painting - Episode Dates'), delimiter=\"\\t\", header=None, names=['src'])\n",
    "\n",
    "# parse df_dates (not actually CSV-- parse each row of file as col in df)\n",
    "df_dates['date'] = df_dates.apply(\n",
    "    lambda r: r['src'][r['src'].find('(')+1:r['src'].find(')')].strip(), axis=1)\n",
    "df_dates['title'] = df_dates.apply(\n",
    "    lambda r: r['src'].split(r['date'])[0][:-1].strip(), axis=1\n",
    ")\n",
    "df_dates['note'] = df_dates.apply(\n",
    "    lambda r: r['src'].split(r['date'])[1][1:-1].strip(), axis=1\n",
    ")\n",
    "df_dates['TITLE'] = df_dates.apply(lambda r: r['title'].upper(), axis=1)\n",
    "\n",
    "# get complete TITLE -> EPISODE xwalk from union of matches in df_colors/df_subjects\n",
    "\n",
    "\n",
    "df_titles = pd.concat([df_colors[['TITLE', 'EPISODE']],\n",
    "                      df_subjects[['TITLE', 'EPISODE']]])\n",
    "# drop missing matches\n",
    "df_titles.dropna(inplace=True)\n",
    "# drop duplicates\n",
    "df_titles.drop_duplicates(inplace=True)\n"
   ]
  },
  {
   "cell_type": "code",
   "execution_count": 191,
   "metadata": {},
   "outputs": [
    {
     "data": {
      "text/html": [
       "<div>\n",
       "<style scoped>\n",
       "    .dataframe tbody tr th:only-of-type {\n",
       "        vertical-align: middle;\n",
       "    }\n",
       "\n",
       "    .dataframe tbody tr th {\n",
       "        vertical-align: top;\n",
       "    }\n",
       "\n",
       "    .dataframe thead th {\n",
       "        text-align: right;\n",
       "    }\n",
       "</style>\n",
       "<table border=\"1\" class=\"dataframe\">\n",
       "  <thead>\n",
       "    <tr style=\"text-align: right;\">\n",
       "      <th></th>\n",
       "      <th>TITLE</th>\n",
       "      <th>EPISODE</th>\n",
       "    </tr>\n",
       "  </thead>\n",
       "  <tbody>\n",
       "    <tr>\n",
       "      <th>16</th>\n",
       "      <td>SHADES OF GREY</td>\n",
       "      <td>S02E04</td>\n",
       "    </tr>\n",
       "  </tbody>\n",
       "</table>\n",
       "</div>"
      ],
      "text/plain": [
       "             TITLE EPISODE\n",
       "16  SHADES OF GREY  S02E04"
      ]
     },
     "execution_count": 191,
     "metadata": {},
     "output_type": "execute_result"
    }
   ],
   "source": [
    "df_titles.loc[df_titles['TITLE'].str.contains('SHADES OF GREY')]"
   ]
  },
  {
   "cell_type": "code",
   "execution_count": 221,
   "metadata": {},
   "outputs": [],
   "source": [
    "# show missing titles\n",
    "def getDatesForTitles(r):\n",
    "    xwalk = {\n",
    "        'EVERGREENS AT SUNSET': 'EVERGREEN AT SUNSET',\n",
    "        'MOUNTAIN PATH': 'MOUNTAIN PASS',\n",
    "        'SHADES OF GREY': 'SHADES OF GRAY',\n",
    "        'EVENING AT SUNSET': 'EVENING SUNSET',\n",
    "        'HALF-OVAL VIGNETTE': 'HALF OVAL VIGNETTE',\n",
    "        'OLD OAK TREE': 'THE OLD OAK TREE',\n",
    "        'CABIN AT TRIALS END': 'CABIN AT TRIAL\\'S END',\n",
    "        'GRAY MOUNTAIN': 'GREY MOUNTAIN',\n",
    "        'THE OLD HOME PLACE': 'OLD PLACE HOME',\n",
    "        'WOODMAN\\'S RETREAT': 'WOODSMAN\\'S RETREAT',\n",
    "    }\n",
    "    title = r['TITLE']\n",
    "    if title in xwalk:\n",
    "        title = xwalk[title]\n",
    "    matches = df_dates.loc[df_dates['TITLE'].str.contains(title)]\n",
    "    if matches.empty:\n",
    "        return None\n",
    "    return matches.iloc[0]['date']\n",
    "\n",
    "\n",
    "def getEpisodeForDate(r):\n",
    "    date = r['date']\n",
    "    title = r['TITLE']\n",
    "    if date:\n",
    "        matches = df_titles.loc[df_titles['date'] == date]\n",
    "        if not matches.empty:\n",
    "            return matches.iloc[0]['EPISODE']\n",
    "    if title:\n",
    "        matches = df_titles.loc[df_titles['TITLE'].str.contains(title)]\n",
    "        if not matches.empty:\n",
    "            return matches.iloc[0]['EPISODE']\n",
    "    return None\n",
    "\n",
    "\n",
    "df_titles['date'] = df_titles.apply(getDatesForTitles, axis=1)\n",
    "df_dates['EPISODE'] = df_dates.apply(getEpisodeForDate, axis=1)\n"
   ]
  },
  {
   "cell_type": "code",
   "execution_count": 222,
   "metadata": {},
   "outputs": [
    {
     "data": {
      "text/html": [
       "<div>\n",
       "<style scoped>\n",
       "    .dataframe tbody tr th:only-of-type {\n",
       "        vertical-align: middle;\n",
       "    }\n",
       "\n",
       "    .dataframe tbody tr th {\n",
       "        vertical-align: top;\n",
       "    }\n",
       "\n",
       "    .dataframe thead th {\n",
       "        text-align: right;\n",
       "    }\n",
       "</style>\n",
       "<table border=\"1\" class=\"dataframe\">\n",
       "  <thead>\n",
       "    <tr style=\"text-align: right;\">\n",
       "      <th></th>\n",
       "      <th>src</th>\n",
       "      <th>date</th>\n",
       "      <th>title</th>\n",
       "      <th>note</th>\n",
       "      <th>TITLE</th>\n",
       "      <th>EPISODE</th>\n",
       "    </tr>\n",
       "  </thead>\n",
       "  <tbody>\n",
       "    <tr>\n",
       "      <th>264</th>\n",
       "      <td>Cabin at Trial's End (October 3, 1990)</td>\n",
       "      <td>October 3, 1990</td>\n",
       "      <td>Cabin at Trial's End</td>\n",
       "      <td></td>\n",
       "      <td>CABIN AT TRIAL'S END</td>\n",
       "      <td>None</td>\n",
       "    </tr>\n",
       "  </tbody>\n",
       "</table>\n",
       "</div>"
      ],
      "text/plain": [
       "                                        src             date  \\\n",
       "264  Cabin at Trial's End (October 3, 1990)  October 3, 1990   \n",
       "\n",
       "                    title note                 TITLE EPISODE  \n",
       "264  Cabin at Trial's End       CABIN AT TRIAL'S END    None  "
      ]
     },
     "execution_count": 222,
     "metadata": {},
     "output_type": "execute_result"
    }
   ],
   "source": [
    "\n",
    "\n",
    "df_dates.loc[df_dates['EPISODE'].isnull()]\n"
   ]
  },
  {
   "cell_type": "code",
   "execution_count": 16,
   "metadata": {},
   "outputs": [
    {
     "name": "stdout",
     "output_type": "stream",
     "text": [
      "The Joy Of Painiting - Episode Dates:\n"
     ]
    },
    {
     "data": {
      "text/html": [
       "<div>\n",
       "<style scoped>\n",
       "    .dataframe tbody tr th:only-of-type {\n",
       "        vertical-align: middle;\n",
       "    }\n",
       "\n",
       "    .dataframe tbody tr th {\n",
       "        vertical-align: top;\n",
       "    }\n",
       "\n",
       "    .dataframe thead th {\n",
       "        text-align: right;\n",
       "    }\n",
       "</style>\n",
       "<table border=\"1\" class=\"dataframe\">\n",
       "  <thead>\n",
       "    <tr style=\"text-align: right;\">\n",
       "      <th></th>\n",
       "      <th>0</th>\n",
       "    </tr>\n",
       "  </thead>\n",
       "  <tbody>\n",
       "    <tr>\n",
       "      <th>0</th>\n",
       "      <td>A Walk in the Woods (January 11, 1983)</td>\n",
       "    </tr>\n",
       "    <tr>\n",
       "      <th>1</th>\n",
       "      <td>Mount McKinley (January 11, 1983)</td>\n",
       "    </tr>\n",
       "    <tr>\n",
       "      <th>2</th>\n",
       "      <td>Ebony Sunset (January 18, 1983)</td>\n",
       "    </tr>\n",
       "    <tr>\n",
       "      <th>3</th>\n",
       "      <td>Winter Mist (January 25, 1983)</td>\n",
       "    </tr>\n",
       "    <tr>\n",
       "      <th>4</th>\n",
       "      <td>Quiet Stream (February 1, 1983)</td>\n",
       "    </tr>\n",
       "  </tbody>\n",
       "</table>\n",
       "</div>"
      ],
      "text/plain": [
       "                                        0\n",
       "0  A Walk in the Woods (January 11, 1983)\n",
       "1       Mount McKinley (January 11, 1983)\n",
       "2         Ebony Sunset (January 18, 1983)\n",
       "3          Winter Mist (January 25, 1983)\n",
       "4         Quiet Stream (February 1, 1983)"
      ]
     },
     "execution_count": 16,
     "metadata": {},
     "output_type": "execute_result"
    }
   ],
   "source": [
    "print(\"The Joy Of Painiting - Episode Dates:\")\n",
    "df_episode_dates.head()\n"
   ]
  },
  {
   "cell_type": "code",
   "execution_count": null,
   "metadata": {},
   "outputs": [],
   "source": []
  }
 ],
 "metadata": {
  "interpreter": {
   "hash": "aee8b7b246df8f9039afb4144a1f6fd8d2ca17a180786b69acc140d282b71a49"
  },
  "kernelspec": {
   "display_name": "Python 3.9.5 64-bit",
   "language": "python",
   "name": "python3"
  },
  "language_info": {
   "codemirror_mode": {
    "name": "ipython",
    "version": 3
   },
   "file_extension": ".py",
   "mimetype": "text/x-python",
   "name": "python",
   "nbconvert_exporter": "python",
   "pygments_lexer": "ipython3",
   "version": "3.9.5"
  },
  "orig_nbformat": 4
 },
 "nbformat": 4,
 "nbformat_minor": 2
}
